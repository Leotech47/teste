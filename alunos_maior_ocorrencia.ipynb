{
  "nbformat": 4,
  "nbformat_minor": 0,
  "metadata": {
    "colab": {
      "provenance": [],
      "authorship_tag": "ABX9TyNPyFGRbQzfTemh+indaWSK",
      "include_colab_link": true
    },
    "kernelspec": {
      "name": "python3",
      "display_name": "Python 3"
    },
    "language_info": {
      "name": "python"
    }
  },
  "cells": [
    {
      "cell_type": "markdown",
      "metadata": {
        "id": "view-in-github",
        "colab_type": "text"
      },
      "source": [
        "<a href=\"https://colab.research.google.com/github/Leotech47/teste/blob/main/alunos_maior_ocorrencia.ipynb\" target=\"_parent\"><img src=\"https://colab.research.google.com/assets/colab-badge.svg\" alt=\"Open In Colab\"/></a>"
      ]
    },
    {
      "cell_type": "markdown",
      "source": [
        "#Modulo - Listas:\n",
        "**Exercicio:** Em uma turma de alunos do ensino médio, o professor deseja bonificar alunos mais participativos em aula. Para isso, ele faz perguntas em diferentes momentos da aula e, o aluno que responder primeiro, ele anota o nome. Ao final da disciplina, o professor confere suas anotações e, para cada aluno que respondeu, ele conta a quantidade de vezes que respondeu uma questão e bonifica com 0.1 pontos na média para cada resposta.\n",
        "Visando maior praticidade, o professor deseja criar um programa em python que recebe uma lista com o nome dos alunos que fizeram as questões. Por exemplo:\n",
        "A = ['junior', 'junior', alice', 'cecilia', 'junior', 'carlos', 'carlos', 'alice']\n",
        "Dada a lista, crie um programa que retorne o aluno que tiver maior ocorrêcia na lista. Por exemplo, na lista A acima, deverá retornar 'junior', já que esse aluno é o que mais participou das aulas, possuindo maior ocorrência na lista.\n",
        "Dica: utilize a função count.\n",
        "Observação: em caso de empate, ordene os nomes e retorne o primeiro após a ordenação. Por exemplo, supondo a lista A = ['junior', alice', 'cecilia', 'junior', 'carlos', 'carlos', 'alice'], temos junior, alice e carlos com a mesma ocorrência na lista (2). Para decidir entre os três, ordene e retorne Alice.\n",
        "def conta_elemento_lista(lista_A):\n",
        "    return nome_aluno"
      ],
      "metadata": {
        "id": "xNBOLaL6M1YZ"
      }
    },
    {
      "cell_type": "code",
      "execution_count": 19,
      "metadata": {
        "colab": {
          "base_uri": "https://localhost:8080/"
        },
        "id": "apVTIXZIM0Om",
        "outputId": "3927cf2e-926b-492b-a2ec-a513fdcf8229"
      },
      "outputs": [
        {
          "output_type": "stream",
          "name": "stdout",
          "text": [
            "Digite o nome do aluno (ou 'fim' para encerrar): joao\n",
            "Digite o nome do aluno (ou 'fim' para encerrar): joao\n",
            "Digite o nome do aluno (ou 'fim' para encerrar): leo\n",
            "Digite o nome do aluno (ou 'fim' para encerrar): leo\n",
            "Digite o nome do aluno (ou 'fim' para encerrar): leo\n",
            "Digite o nome do aluno (ou 'fim' para encerrar): paulo\n",
            "Digite o nome do aluno (ou 'fim' para encerrar): fim\n",
            "O aluno com maior ocorrência é: leo\n"
          ]
        }
      ],
      "source": [
        "def conta_elemento_lista(lista_A):\n",
        "    \"\"\"\n",
        "    Encontra o nome do aluno com maior ocorrência em uma lista de nomes, considerando empates.\n",
        "\n",
        "    Args:\n",
        "        lista_A: Uma lista de strings representando os nomes dos alunos que responderam perguntas.\n",
        "\n",
        "    Returns:\n",
        "        O nome do aluno com maior ocorrência, escolhendo o primeiro em ordem alfabética em caso de empate.\n",
        "    \"\"\"\n",
        "\n",
        "    contagens = {}\n",
        "    for nome in lista_A:\n",
        "        contagens[nome] = contagens.get(nome, 0) + 1\n",
        "\n",
        "    maior_ocorrencia = max(contagens.values())\n",
        "\n",
        "    alunos_empatados = [nome for nome, count in contagens.items() if count == maior_ocorrencia]\n",
        "    alunos_empatados.sort()\n",
        "\n",
        "    print(f\"O aluno com maior ocorrência é: {alunos_empatados[0]}\")\n",
        "    return alunos_empatados[0]\n",
        "\n",
        "# Obter a lista de alunos do usuário\n",
        "lista_alunos = []\n",
        "while True:\n",
        "    nome = input(\"Digite o nome do aluno (ou 'fim' para encerrar): \")\n",
        "    if nome.lower() == 'fim':\n",
        "        break\n",
        "    lista_alunos.append(nome)\n",
        "\n",
        "# Chamar a função para encontrar o aluno com maior ocorrência\n",
        "aluno_mais_participativo = conta_elemento_lista(lista_alunos)\n",
        "\n"
      ]
    }
  ]
}